{
 "cells": [
  {
   "cell_type": "code",
   "execution_count": null,
   "metadata": {},
   "outputs": [],
   "source": [
    "#--------- Manchester ------------>\n",
    "import matplotlib as mt\n",
    "from matplotlib import pyplot as plt\n",
    "a=[]\n",
    "z=input(\"enter bit stream\")\n",
    "for p in z:\n",
    "    a.append(p)\n",
    "li=[]\n",
    "y=[]\n",
    "c=0\n",
    "j=0\n",
    "for i in range (0,len(a)):\n",
    "    if a[i]=='1':\n",
    "        li.append(-1)\n",
    "        j=j+0.5\n",
    "        y.append(j)\n",
    "        \n",
    "        li.append(1)\n",
    "        j=j+0.5\n",
    "        y.append(j)\n",
    "        \n",
    "    else :\n",
    "        li.append(1)\n",
    "        j=j+0.5\n",
    "        y.append(j)\n",
    "        \n",
    "        li.append(-1)\n",
    "        j=j+0.5\n",
    "        y.append(j)\n",
    "    \n",
    "li.insert(0,-1)\n",
    "y.insert(0,0)\n",
    "plt.plot(y,li,drawstyle='steps-pre')\n"
   ]
  }
 ],
 "metadata": {
  "kernelspec": {
   "display_name": "Python 3",
   "language": "python",
   "name": "python3"
  },
  "language_info": {
   "codemirror_mode": {
    "name": "ipython",
    "version": 3
   },
   "file_extension": ".py",
   "mimetype": "text/x-python",
   "name": "python",
   "nbconvert_exporter": "python",
   "pygments_lexer": "ipython3",
   "version": "3.6.5"
  }
 },
 "nbformat": 4,
 "nbformat_minor": 2
}
