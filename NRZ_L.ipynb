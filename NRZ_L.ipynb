{
 "cells": [
  {
   "cell_type": "code",
   "execution_count": null,
   "metadata": {},
   "outputs": [],
   "source": [
    "#---------- NRZ-L --------------->\n",
    "import matplotlib as mt\n",
    "from matplotlib import pyplot as plt\n",
    "a=[]\n",
    "z=input(\"enter bit stream\")\n",
    "for p in z:\n",
    "    a.append(p) \n",
    "a.insert(0,-1);\n",
    "for i in range(0,len(a)):\n",
    "    if a[i]=='1':\n",
    "        a[i]='1'\n",
    "    elif a[i]=='0':\n",
    "        a[i]='-1'\n",
    "plt.plot(a,drawstyle='steps-pre')\n"
   ]
  }
 ],
 "metadata": {
  "kernelspec": {
   "display_name": "Python 3",
   "language": "python",
   "name": "python3"
  },
  "language_info": {
   "codemirror_mode": {
    "name": "ipython",
    "version": 3
   },
   "file_extension": ".py",
   "mimetype": "text/x-python",
   "name": "python",
   "nbconvert_exporter": "python",
   "pygments_lexer": "ipython3",
   "version": "3.6.5"
  }
 },
 "nbformat": 4,
 "nbformat_minor": 2
}
